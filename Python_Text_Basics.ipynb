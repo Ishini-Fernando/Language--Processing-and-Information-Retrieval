{
  "nbformat": 4,
  "nbformat_minor": 0,
  "metadata": {
    "colab": {
      "provenance": [],
      "mount_file_id": "1FjgbNHp_jYghr8ixbyZHtQ-cwcCc3zvk",
      "authorship_tag": "ABX9TyNwM1lK9GwYEwycN76zlzSG",
      "include_colab_link": true
    },
    "kernelspec": {
      "name": "python3",
      "display_name": "Python 3"
    },
    "language_info": {
      "name": "python"
    }
  },
  "cells": [
    {
      "cell_type": "markdown",
      "metadata": {
        "id": "view-in-github",
        "colab_type": "text"
      },
      "source": [
        "<a href=\"https://colab.research.google.com/github/Ishini-Fernando/Language--Processing-and-Information-Retrieval/blob/main/Python_Text_Basics.ipynb\" target=\"_parent\"><img src=\"https://colab.research.google.com/assets/colab-badge.svg\" alt=\"Open In Colab\"/></a>"
      ]
    },
    {
      "cell_type": "markdown",
      "source": [
        "# **Working with Text Files**\n"
      ],
      "metadata": {
        "id": "b0I2vVxqfVRS"
      }
    },
    {
      "cell_type": "markdown",
      "source": [
        "## **Formatted String Literals (f-strings)**\n",
        "\n",
        "Introduced in Python 3.6, f-strings offer several benefits over the older .format() string method.\n",
        "\n",
        "For one, you can bring outside variables immediately into to the string rather than pass them through as keyword arguments:"
      ],
      "metadata": {
        "id": "qGq8BT7TmJO_"
      }
    },
    {
      "cell_type": "code",
      "source": [
        "name = 'Fred'\n",
        "\n",
        "# Using the old .format() method:\n",
        "print('His name is {var}.'.format(var=name))\n",
        "\n",
        "# Using f-strings:\n",
        "print(f'His name is {name}.')\n",
        "\n",
        "# Pass `!r` to get the string representation:\n",
        "print(f'His name is {name!r}')"
      ],
      "metadata": {
        "colab": {
          "base_uri": "https://localhost:8080/"
        },
        "id": "ahVZBj_hgFLx",
        "outputId": "5056e17f-ee74-4151-8fae-16f762a1ce2f"
      },
      "execution_count": 3,
      "outputs": [
        {
          "output_type": "stream",
          "name": "stdout",
          "text": [
            "His name is Fred.\n",
            "His name is Fred.\n",
            "His name is 'Fred'\n"
          ]
        }
      ]
    },
    {
      "cell_type": "markdown",
      "source": [
        "Be careful not to let quotation marks in the replacement fields conflict with the quoting used in the outer string:\n"
      ],
      "metadata": {
        "id": "OK3k5xX5iJcW"
      }
    },
    {
      "cell_type": "code",
      "source": [
        "d = {'a': 123, 'b': 456}\n",
        "print(f\"Address: {d['a']} Main Street\")"
      ],
      "metadata": {
        "colab": {
          "base_uri": "https://localhost:8080/"
        },
        "id": "xzynFg7tiMTm",
        "outputId": "b02a1f46-7b94-4bf7-9785-1dbe49679da7"
      },
      "execution_count": 4,
      "outputs": [
        {
          "output_type": "stream",
          "name": "stdout",
          "text": [
            "Address: 123 Main Street\n"
          ]
        }
      ]
    },
    {
      "cell_type": "markdown",
      "source": [
        "**Minimum Widths, Alignment, and Padding**"
      ],
      "metadata": {
        "id": "aExs6RB7i5mK"
      }
    },
    {
      "cell_type": "code",
      "source": [
        "library = [('Author', 'Topic', 'Pages'), ('Twain', 'Rafting', 601), ('Feynman', 'Physics', 95), ('Hamilton', 'Mythology', 144)]\n",
        "\n",
        "# Format the table with minimum widths, alignment, and padding characters:\n",
        "for book in library:\n",
        "    print(f'{book[0]:{10}} {book[1]:{8}} {book[2]:{7}}')"
      ],
      "metadata": {
        "colab": {
          "base_uri": "https://localhost:8080/"
        },
        "id": "Mxz5VFG7ixjg",
        "outputId": "e7f59f74-45b7-4b30-8d78-bb802a101c5b"
      },
      "execution_count": 6,
      "outputs": [
        {
          "output_type": "stream",
          "name": "stdout",
          "text": [
            "Author     Topic    Pages  \n",
            "Twain      Rafting      601\n",
            "Feynman    Physics       95\n",
            "Hamilton   Mythology     144\n"
          ]
        }
      ]
    },
    {
      "cell_type": "markdown",
      "source": [
        "**Date Formatting**"
      ],
      "metadata": {
        "id": "K7lafktMjUFg"
      }
    },
    {
      "cell_type": "code",
      "source": [
        "from datetime import datetime\n",
        "\n",
        "today = datetime(year=2018, month=1, day=27)\n",
        "print(f'{today:%B %d, %Y}')"
      ],
      "metadata": {
        "colab": {
          "base_uri": "https://localhost:8080/"
        },
        "id": "8peV0RStjYd4",
        "outputId": "6c574d78-929b-4555-9670-40916915bba8"
      },
      "execution_count": 7,
      "outputs": [
        {
          "output_type": "stream",
          "name": "stdout",
          "text": [
            "January 27, 2018\n"
          ]
        }
      ]
    },
    {
      "cell_type": "markdown",
      "source": [
        "## **Files**\n",
        "\n",
        "Python uses file objects to interact with external files on your computer.\n",
        "These file objects can be any sort of file you have on your computer, whether it be an audio file, a text file, emails, Excel documents, etc.\n",
        "\n",
        "**Creating a File**"
      ],
      "metadata": {
        "id": "714SkyXMkFaX"
      }
    },
    {
      "cell_type": "code",
      "source": [
        "%%writefile test.txt\n",
        "Hello, this is a quick test file.\n",
        "This is the second line of the file."
      ],
      "metadata": {
        "colab": {
          "base_uri": "https://localhost:8080/"
        },
        "id": "0XtfSS1DkgU6",
        "outputId": "cde3f8da-7e92-49c3-a8cf-07d257b12b09"
      },
      "execution_count": 22,
      "outputs": [
        {
          "output_type": "stream",
          "name": "stdout",
          "text": [
            "Overwriting test.txt\n"
          ]
        }
      ]
    },
    {
      "cell_type": "markdown",
      "source": [
        "**Opening and Reading a File**"
      ],
      "metadata": {
        "id": "iWwpCzWbls-N"
      }
    },
    {
      "cell_type": "code",
      "source": [
        "# Open the text.txt file we created earlier\n",
        "my_file = open('test.txt')\n",
        "\n",
        "# Read the file\n",
        "my_file.read()"
      ],
      "metadata": {
        "colab": {
          "base_uri": "https://localhost:8080/",
          "height": 35
        },
        "id": "DUCIMnMKlH04",
        "outputId": "07a97cf2-0f13-446e-c71e-05985a613fd7"
      },
      "execution_count": 23,
      "outputs": [
        {
          "output_type": "execute_result",
          "data": {
            "text/plain": [
              "'Hello, this is a quick test file.\\nThis is the second line of the file.\\n'"
            ],
            "application/vnd.google.colaboratory.intrinsic+json": {
              "type": "string"
            }
          },
          "metadata": {},
          "execution_count": 23
        }
      ]
    },
    {
      "cell_type": "code",
      "source": [
        "# Reset the reading cursor to the start of the file\n",
        "my_file.seek(0)\n",
        "\n",
        "# Read again\n",
        "my_file.read()"
      ],
      "metadata": {
        "colab": {
          "base_uri": "https://localhost:8080/",
          "height": 35
        },
        "id": "J7dTe0TymiSf",
        "outputId": "65550242-3f83-48dd-8c21-e681d27c6ba9"
      },
      "execution_count": 24,
      "outputs": [
        {
          "output_type": "execute_result",
          "data": {
            "text/plain": [
              "'Hello, this is a quick test file.\\nThis is the second line of the file.\\n'"
            ],
            "application/vnd.google.colaboratory.intrinsic+json": {
              "type": "string"
            }
          },
          "metadata": {},
          "execution_count": 24
        }
      ]
    },
    {
      "cell_type": "code",
      "source": [
        "# .readlines() - Read a file line by line\n",
        "my_file.seek(0)\n",
        "my_file.readlines()"
      ],
      "metadata": {
        "colab": {
          "base_uri": "https://localhost:8080/"
        },
        "id": "hf2pDIPbmlHh",
        "outputId": "e60a5aa6-479e-45fa-b76e-0866bbbdf115"
      },
      "execution_count": 25,
      "outputs": [
        {
          "output_type": "execute_result",
          "data": {
            "text/plain": [
              "['Hello, this is a quick test file.\\n',\n",
              " 'This is the second line of the file.\\n']"
            ]
          },
          "metadata": {},
          "execution_count": 25
        }
      ]
    },
    {
      "cell_type": "code",
      "source": [
        "# Close the file\n",
        "my_file.close()"
      ],
      "metadata": {
        "id": "G5aXDWIemrLb"
      },
      "execution_count": 26,
      "outputs": []
    },
    {
      "cell_type": "markdown",
      "source": [
        "**Writing to a File**\n",
        "\n",
        "Add a second argument to the function, 'w' which stands for write. Passing 'w+' lets us read and write to the file.\n",
        "\n",
        "Note: Opening a file with 'w' or 'w+' truncates the original, meaning that anything in the original file is deleted!"
      ],
      "metadata": {
        "id": "VfUDSkC3nDoj"
      }
    },
    {
      "cell_type": "code",
      "source": [
        "my_file = open('test.txt', 'w+')\n",
        "my_file.write('This is a new first line')\n",
        "\n",
        "# Read the file\n",
        "my_file.seek(0)\n",
        "my_file.read()"
      ],
      "metadata": {
        "colab": {
          "base_uri": "https://localhost:8080/",
          "height": 35
        },
        "id": "hzkFrI9NnHBN",
        "outputId": "ce6c332b-7976-4ce6-8c91-a5db0590b7ff"
      },
      "execution_count": 27,
      "outputs": [
        {
          "output_type": "execute_result",
          "data": {
            "text/plain": [
              "'This is a new first line'"
            ],
            "application/vnd.google.colaboratory.intrinsic+json": {
              "type": "string"
            }
          },
          "metadata": {},
          "execution_count": 27
        }
      ]
    },
    {
      "cell_type": "code",
      "source": [
        "# Close the file\n",
        "my_file.close()"
      ],
      "metadata": {
        "id": "RwwSlItAnPo4"
      },
      "execution_count": 28,
      "outputs": []
    },
    {
      "cell_type": "markdown",
      "source": [
        "**Appending to a File**\n",
        "\n",
        "Passing the argument 'a' opens the file and puts the pointer at the end, so anything written is appended.\n",
        "\n",
        "'a+' lets us read and write to a file. If the file does not exist, one will be created."
      ],
      "metadata": {
        "id": "1rqo78gFndYK"
      }
    },
    {
      "cell_type": "code",
      "source": [
        "my_file = open('test.txt', 'a+')\n",
        "my_file.write('\\nThis line is being appended to test.txt')\n",
        "my_file.write('\\nAnd another line here.')\n",
        "\n",
        "# Read the file\n",
        "my_file.seek(0)\n",
        "print(my_file.read())"
      ],
      "metadata": {
        "colab": {
          "base_uri": "https://localhost:8080/"
        },
        "id": "RUIxf8F7nfsx",
        "outputId": "283f0829-139d-4f50-a557-75ded05942f9"
      },
      "execution_count": 29,
      "outputs": [
        {
          "output_type": "stream",
          "name": "stdout",
          "text": [
            "This is a new first line\n",
            "This line is being appended to test.txt\n",
            "And another line here.\n"
          ]
        }
      ]
    },
    {
      "cell_type": "markdown",
      "source": [
        "**Aliases and Context Managers**\n",
        "\n",
        "You can assign temporary variable names as aliases and manage the opening and closing of files automatically using a context manager:\n"
      ],
      "metadata": {
        "id": "vZDby9tZojIz"
      }
    },
    {
      "cell_type": "code",
      "source": [
        "with open('test.txt', 'r') as txt:\n",
        "    first_line = txt.readlines()[0]"
      ],
      "metadata": {
        "id": "WYvcBu_5ovWJ"
      },
      "execution_count": 32,
      "outputs": []
    },
    {
      "cell_type": "markdown",
      "source": [
        "Note: The context manager automatically closed test.txt after assigning the first line of text to first_line:\n",
        "\n",
        "txt.read()"
      ],
      "metadata": {
        "id": "ipzkLJItpTN2"
      }
    },
    {
      "cell_type": "code",
      "source": [
        "# Iterating through a File\n",
        "with open('test.txt', 'r') as txt:\n",
        "    for line in txt:\n",
        "        print(line, end='')"
      ],
      "metadata": {
        "colab": {
          "base_uri": "https://localhost:8080/"
        },
        "id": "Y_ByDcaupZ4M",
        "outputId": "c6d0512b-0058-4296-b52b-9778df454f74"
      },
      "execution_count": 33,
      "outputs": [
        {
          "output_type": "stream",
          "name": "stdout",
          "text": [
            "This is a new first line\n",
            "This line is being appended to test.txt\n",
            "And another line here."
          ]
        }
      ]
    },
    {
      "cell_type": "markdown",
      "source": [],
      "metadata": {
        "id": "NerrwKGPryIj"
      }
    }
  ]
}